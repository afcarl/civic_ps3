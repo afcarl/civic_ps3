{
 "cells": [
  {
   "cell_type": "code",
   "execution_count": 1,
   "metadata": {
    "collapsed": false
   },
   "outputs": [
    {
     "name": "stdout",
     "output_type": "stream",
     "text": [
      "Populating the interactive namespace from numpy and matplotlib\n"
     ]
    }
   ],
   "source": [
    "%pylab inline"
   ]
  },
  {
   "cell_type": "code",
   "execution_count": 2,
   "metadata": {
    "collapsed": true
   },
   "outputs": [],
   "source": [
    "import pandas as pd\n",
    "import re\n",
    "import datetime\n",
    "import pylab as pl\n",
    "pl.style.use('fivethirtyeight')\n",
    "import statsmodels.formula.api as smf\n",
    "from statsmodels.graphics.api import abline_plot\n",
    "import statsmodels.api as sma\n",
    "import numpy as np\n",
    "import scipy\n",
    "import statsmodels\n",
    "import geopandas as gp\n",
    "from shapely.geometry import Point"
   ]
  },
  {
   "cell_type": "code",
   "execution_count": 3,
   "metadata": {
    "collapsed": true
   },
   "outputs": [],
   "source": [
    "slowzones = gp.GeoDataFrame.from_file(\"neighborhood_slow_zones.json\")"
   ]
  },
  {
   "cell_type": "code",
   "execution_count": 4,
   "metadata": {
    "collapsed": false
   },
   "outputs": [],
   "source": [
    "slowzone_details = [\n",
    "    (6, 2013),  #New Brighton, change to 2013.  Month uncertain?\n",
    "    (6, 2013),  #Corona, change to 2013\n",
    "    (4, 2013),  #Jackson Heights/East Elmhurst, \n",
    "    (3, 2013),  #Elmhurst Month Uncertain\n",
    "    (6, 2013),  #Auburndale\n",
    "    (9, 2012),  #Inwood\n",
    "    (12, 2012), #Baychester\n",
    "    (9, 2013),  #Dongan\n",
    "    (10, 2012), #Eastchester\n",
    "    (10, 2012), #Riverdale\n",
    "    (2, 2013),  #Rosebank, Not right\n",
    "    (7, 2012),  #MT Eden, Definitely not right\n",
    "    (11, 2012), #Boerum\n",
    "    (11, 2011), #Claremont*\n",
    "    (6, 2014),  #Norwood, Month uncertain\n",
    "    (8, 2014),  #Alphabet*\n",
    "    None,       #Clinton Hill REMOVE\n",
    "    (9, 2014),  #Jackson-Heights*\n",
    "    None,       #Brownsville/East\n",
    "    None,       #Hudson Heights REMOVE\n",
    "    None,       #Parkchester REMOVE\n",
    "    (8, 2015),  #Sunnyside Gardens-Woodside*\n",
    "    (8,2015),   #Sunnyside*\n",
    "    None,       #West Village REMOVE\n",
    "    (10, 2015), #Prospect Heights*\n",
    "    (10, 2015), #Brooklyn Heights*\n",
    "    (9, 2015)    #Astoria*\n",
    "]\n",
    "\n",
    "slowzones['date'] = [datetime.datetime(year=i[1], month=i[0], day=1) if i else None for i in slowzone_details]\n",
    "slowzones = slowzones.drop(slowzones.index[[False if i else True for i in slowzone_details]])"
   ]
  },
  {
   "cell_type": "code",
   "execution_count": 5,
   "metadata": {
    "collapsed": false
   },
   "outputs": [
    {
     "name": "stdout",
     "output_type": "stream",
     "text": [
      "\\begin{tabular}{ll}\n",
      "\\toprule\n",
      "                                  Name &   datefmt \\\\\n",
      "\\midrule\n",
      "                          Claremont SZ &  Nov 2011 \\\\\n",
      "                            MT Eden SZ &  Jul 2012 \\\\\n",
      "                             Inwood SZ &  Sep 2012 \\\\\n",
      "                        Eastchester SZ &  Oct 2012 \\\\\n",
      "                          Riverdale SZ &  Oct 2012 \\\\\n",
      "                        Boerum Hill SZ &  Nov 2012 \\\\\n",
      "                         Baychester SZ &  Dec 2012 \\\\\n",
      "                           Rosebank SZ &  Feb 2013 \\\\\n",
      "                           Elmhurst SZ &  Mar 2013 \\\\\n",
      "      Jackson Heights/East Elmhurst SZ &  Apr 2013 \\\\\n",
      "           New Brighton / St George SZ &  Jun 2013 \\\\\n",
      "                         Auburndale SZ &  Jun 2013 \\\\\n",
      "                             Corona SZ &  Jun 2013 \\\\\n",
      "                       Dongan Hills SZ &  Sep 2013 \\\\\n",
      "                           X10 Norwood &  Jun 2014 \\\\\n",
      " Alphabet City Tompkins Square Park SZ &  Aug 2014 \\\\\n",
      "                    Jackson Heights SZ &  Sep 2014 \\\\\n",
      "         Sunnyside Gardens-Woodside SZ &  Aug 2015 \\\\\n",
      "                          Sunnyside SZ &  Aug 2015 \\\\\n",
      "                            Astoria SZ &  Sep 2015 \\\\\n",
      "                   Prospect Heights SZ &  Oct 2015 \\\\\n",
      "                   Brooklyn Heights SZ &  Oct 2015 \\\\\n",
      "\\bottomrule\n",
      "\\end{tabular}\n",
      "\n"
     ]
    }
   ],
   "source": [
    "slowzones['datefmt'] = slowzones.apply(lambda x: x['date'].strftime('%b %Y'), axis=1)\n",
    "print slowzones.sort('date').to_latex(columns=['Name', 'datefmt'], index=False)"
   ]
  },
  {
   "cell_type": "code",
   "execution_count": 6,
   "metadata": {
    "collapsed": true
   },
   "outputs": [],
   "source": [
    "def convertDate(d):\n",
    "    #dt = datetime.datetime.strptime(d, '%Y-%m-%d %H:%M:%S')\n",
    "    #dt = dt.replace(minute=(dt.minute / 20) * 10, second=0, microsecond=0)\n",
    "    dt = datetime.datetime.strptime(d, '%m/%d/%Y')\n",
    "    #dt = dt.replace(day=1)\n",
    "    #dt = dt - datetime.timedelta(hours=5)\n",
    "    return dt\n",
    "\n",
    "crashes = pd.read_csv('NYPD_Motor_Vehicle_Collisions.csv', converters={'DATE': convertDate})#, parse_dates=[1])"
   ]
  },
  {
   "cell_type": "code",
   "execution_count": 7,
   "metadata": {
    "collapsed": true
   },
   "outputs": [],
   "source": [
    "crashes['GEO'] = crashes.apply(lambda x: Point(x['LONGITUDE'], x['LATITUDE']), axis=1)"
   ]
  },
  {
   "cell_type": "code",
   "execution_count": 8,
   "metadata": {
    "collapsed": false
   },
   "outputs": [],
   "source": [
    "crashes = crashes.drop(crashes.index[np.isnan(crashes['LATITUDE'])])"
   ]
  },
  {
   "cell_type": "code",
   "execution_count": 9,
   "metadata": {
    "collapsed": false
   },
   "outputs": [],
   "source": [
    "def getSlowzone(crash):\n",
    "    sz = slowzones[slowzones.intersects(crash['GEO'])]#.size\n",
    "    if sz.size > 0:\n",
    "        return sz.index[0]\n",
    "    \n",
    "    return float('nan')"
   ]
  },
  {
   "cell_type": "code",
   "execution_count": 10,
   "metadata": {
    "collapsed": true
   },
   "outputs": [],
   "source": [
    "crashes['slowzone'] = crashes.apply(getSlowzone, axis=1)"
   ]
  },
  {
   "cell_type": "code",
   "execution_count": 11,
   "metadata": {
    "collapsed": false
   },
   "outputs": [],
   "source": [
    "vz25date = datetime.datetime(year=2014, month=11, day=7)\n",
    "def getSpeedLimit(crash):\n",
    "    if not np.isnan(crash['slowzone']):\n",
    "        if crash['DATE'] >= slowzones['date'][crash['slowzone']]:#slowzones.iloc[crash['slowzone']]['date']:\n",
    "            return 20\n",
    "        \n",
    "    if crash['DATE'] > vz25date:\n",
    "        return 25\n",
    "    \n",
    "    return 30"
   ]
  },
  {
   "cell_type": "code",
   "execution_count": 12,
   "metadata": {
    "collapsed": false
   },
   "outputs": [
    {
     "name": "stderr",
     "output_type": "stream",
     "text": [
      "c:\\Users\\Jeremy\\Anaconda\\lib\\site-packages\\pandas\\core\\index.py:805: FutureWarning: scalar indexers for index type Int64Index should be integers and not floating point\n",
      "  type(self).__name__),FutureWarning)\n"
     ]
    }
   ],
   "source": [
    "crashes['speedlimit'] = crashes.apply(getSpeedLimit, axis=1)"
   ]
  },
  {
   "cell_type": "code",
   "execution_count": 110,
   "metadata": {
    "collapsed": false
   },
   "outputs": [
    {
     "name": "stdout",
     "output_type": "stream",
     "text": [
      "                            OLS Regression Results                            \n",
      "==============================================================================\n",
      "Dep. Variable:                      k   R-squared:                       0.000\n",
      "Model:                            OLS   Adj. R-squared:                  0.000\n",
      "Method:                 Least Squares   F-statistic:                     2.905\n",
      "Date:                Fri, 04 Dec 2015   Prob (F-statistic):             0.0547\n",
      "Time:                        21:08:15   Log-Likelihood:             1.3140e+06\n",
      "No. Observations:              596085   AIC:                        -2.628e+06\n",
      "Df Residuals:                  596082   BIC:                        -2.628e+06\n",
      "Df Model:                           2                                         \n",
      "Covariance Type:            nonrobust                                         \n",
      "==============================================================================\n",
      "                 coef    std err          t      P>|t|      [95.0% Conf. Int.]\n",
      "------------------------------------------------------------------------------\n",
      "Intercept      0.0007      0.000      2.275      0.023         0.000     0.001\n",
      "C(s)[T.25]    -0.0002      0.000     -0.478      0.633        -0.001     0.000\n",
      "C(s)[T.30]  2.202e-05      0.000      0.067      0.946        -0.001     0.001\n",
      "==============================================================================\n",
      "Omnibus:                  1693687.340   Durbin-Watson:                   1.997\n",
      "Prob(Omnibus):                  0.000   Jarque-Bera (JB):      57258784103.939\n",
      "Skew:                          38.469   Prob(JB):                         0.00\n",
      "Kurtosis:                    1519.402   Cond. No.                         20.5\n",
      "==============================================================================\n",
      "\n",
      "Warnings:\n",
      "[1] Standard Errors assume that the covariance matrix of the errors is correctly specified.\n"
     ]
    },
    {
     "data": {
      "image/png": "[encoded data removed]",
      "text/plain": [
       "<matplotlib.figure.Figure at 0x9cbde7b8>"
      ]
     },
     "metadata": {},
     "output_type": "display_data"
    }
   ],
   "source": [
    "figure, ax = pl.subplots(figsize=(16,16))\n",
    "#ax.plot_date(np.unique(crashes['DATE']), agg, '-')\n",
    "\n",
    "subset = crashes#[crashes['PERCENT OF PEDESTRIANS KILLED']>=0]\n",
    "\n",
    "ax.scatter(subset['speedlimit'], subset['NUMBER OF PEDESTRIANS KILLED'])\n",
    "\n",
    "ax.set_title('Number of Deaths per Crash vs. Speedlimit')\n",
    "ax.set_ylabel('Number of Deaths')\n",
    "ax.set_xlabel('Speed Limit')\n",
    "\n",
    "mod = smf.ols(formula='k ~ C(s)', data = {'s': subset['speedlimit'], 'k': subset['NUMBER OF PEDESTRIANS KILLED']}).fit()\n",
    "print mod.summary()\n",
    "#abline_plot(model_results=mod, ax=ax, color='red')\n",
    "#y = mod.params[0] + mod.params[1]*np.arange(len(agg))\n",
    "#ax.plot_date(np.unique(crashes['DATE']), y, 'r--')"
   ]
  },
  {
   "cell_type": "code",
   "execution_count": 13,
   "metadata": {
    "collapsed": false
   },
   "outputs": [],
   "source": [
    "grouped = crashes.groupby(('slowzone', 'speedlimit'))"
   ]
  },
  {
   "cell_type": "code",
   "execution_count": 28,
   "metadata": {
    "collapsed": false
   },
   "outputs": [
    {
     "name": "stderr",
     "output_type": "stream",
     "text": [
      "c:\\Users\\Jeremy\\Anaconda\\lib\\site-packages\\IPython\\kernel\\__main__.py:8: SettingWithCopyWarning: \n",
      "A value is trying to be set on a copy of a slice from a DataFrame\n",
      "\n",
      "See the the caveats in the documentation: http://pandas.pydata.org/pandas-docs/stable/indexing.html#indexing-view-versus-copy\n",
      "c:\\Users\\Jeremy\\Anaconda\\lib\\site-packages\\IPython\\kernel\\__main__.py:10: SettingWithCopyWarning: \n",
      "A value is trying to be set on a copy of a slice from a DataFrame\n",
      "\n",
      "See the the caveats in the documentation: http://pandas.pydata.org/pandas-docs/stable/indexing.html#indexing-view-versus-copy\n"
     ]
    }
   ],
   "source": [
    "#for name, group in grouped:\n",
    "#    print name\n",
    "slowzones['before'] = 0#np.zeros(slowzones.size)\n",
    "slowzones['after'] = 0#np.zeros(slowzones.size)\n",
    "for index,row in grouped.sum().iterrows():\n",
    "    sz,speed = index\n",
    "    if speed == 20:\n",
    "        slowzones['after'][sz] += row['NUMBER OF PERSONS INJURED']\n",
    "    else:\n",
    "        slowzones['before'][sz] += row['NUMBER OF PERSONS INJURED']"
   ]
  },
  {
   "cell_type": "code",
   "execution_count": 38,
   "metadata": {
    "collapsed": false
   },
   "outputs": [
    {
     "data": {
      "text/html": [
       "<div>\n",
       "<table border=\"1\" class=\"dataframe\">\n",
       "  <thead>\n",
       "    <tr style=\"text-align: right;\">\n",
       "      <th></th>\n",
       "      <th>Name</th>\n",
       "      <th>Shape_Leng</th>\n",
       "      <th>Year</th>\n",
       "      <th>geometry</th>\n",
       "      <th>date</th>\n",
       "      <th>before</th>\n",
       "      <th>after</th>\n",
       "      <th>avgBefore</th>\n",
       "      <th>avgAfter</th>\n",
       "    </tr>\n",
       "  </thead>\n",
       "  <tbody>\n",
       "    <tr>\n",
       "      <th>0</th>\n",
       "      <td>New Brighton / St George SZ</td>\n",
       "      <td>13036.458032</td>\n",
       "      <td>2012</td>\n",
       "      <td>POLYGON ((-74.08100100007188 40.6370809990848,...</td>\n",
       "      <td>2013-06-01</td>\n",
       "      <td>18</td>\n",
       "      <td>52</td>\n",
       "      <td>0.053731</td>\n",
       "      <td>0.057080</td>\n",
       "    </tr>\n",
       "    <tr>\n",
       "      <th>1</th>\n",
       "      <td>Corona SZ</td>\n",
       "      <td>10817.131818</td>\n",
       "      <td>2012</td>\n",
       "      <td>POLYGON ((-73.86942458231813 40.74915686824454...</td>\n",
       "      <td>2013-06-01</td>\n",
       "      <td>51</td>\n",
       "      <td>177</td>\n",
       "      <td>0.152239</td>\n",
       "      <td>0.194292</td>\n",
       "    </tr>\n",
       "    <tr>\n",
       "      <th>2</th>\n",
       "      <td>Jackson Heights/East Elmhurst SZ</td>\n",
       "      <td>11114.722878</td>\n",
       "      <td>2013</td>\n",
       "      <td>POLYGON ((-73.88713100050958 40.7648889990303,...</td>\n",
       "      <td>2013-04-01</td>\n",
       "      <td>21</td>\n",
       "      <td>91</td>\n",
       "      <td>0.076642</td>\n",
       "      <td>0.093621</td>\n",
       "    </tr>\n",
       "    <tr>\n",
       "      <th>3</th>\n",
       "      <td>Elmhurst SZ</td>\n",
       "      <td>12877.813210</td>\n",
       "      <td>2013</td>\n",
       "      <td>POLYGON ((-73.88207112111411 40.74782992580317...</td>\n",
       "      <td>2013-03-01</td>\n",
       "      <td>65</td>\n",
       "      <td>212</td>\n",
       "      <td>0.267490</td>\n",
       "      <td>0.211366</td>\n",
       "    </tr>\n",
       "    <tr>\n",
       "      <th>4</th>\n",
       "      <td>Auburndale SZ</td>\n",
       "      <td>6477.631376</td>\n",
       "      <td>2013</td>\n",
       "      <td>POLYGON ((-73.78522788946755 40.76184569346055...</td>\n",
       "      <td>2013-06-01</td>\n",
       "      <td>5</td>\n",
       "      <td>9</td>\n",
       "      <td>0.014925</td>\n",
       "      <td>0.009879</td>\n",
       "    </tr>\n",
       "    <tr>\n",
       "      <th>5</th>\n",
       "      <td>Inwood SZ</td>\n",
       "      <td>13491.829126</td>\n",
       "      <td>2012</td>\n",
       "      <td>POLYGON ((-73.91845699967485 40.87306999944159...</td>\n",
       "      <td>2012-09-01</td>\n",
       "      <td>2</td>\n",
       "      <td>89</td>\n",
       "      <td>0.032258</td>\n",
       "      <td>0.075169</td>\n",
       "    </tr>\n",
       "    <tr>\n",
       "      <th>6</th>\n",
       "      <td>Baychester SZ</td>\n",
       "      <td>8972.379950</td>\n",
       "      <td>2013</td>\n",
       "      <td>POLYGON ((-73.84640499958121 40.8770329992664,...</td>\n",
       "      <td>2012-12-01</td>\n",
       "      <td>15</td>\n",
       "      <td>101</td>\n",
       "      <td>0.098039</td>\n",
       "      <td>0.092406</td>\n",
       "    </tr>\n",
       "    <tr>\n",
       "      <th>7</th>\n",
       "      <td>Dongan Hills SZ</td>\n",
       "      <td>13195.014124</td>\n",
       "      <td>2013</td>\n",
       "      <td>POLYGON ((-74.09208699941692 40.58660899920393...</td>\n",
       "      <td>2013-09-01</td>\n",
       "      <td>22</td>\n",
       "      <td>50</td>\n",
       "      <td>0.051522</td>\n",
       "      <td>0.061050</td>\n",
       "    </tr>\n",
       "    <tr>\n",
       "      <th>8</th>\n",
       "      <td>Eastchester SZ</td>\n",
       "      <td>8453.375658</td>\n",
       "      <td>2013</td>\n",
       "      <td>POLYGON ((-73.8555370004179 40.87118899883096,...</td>\n",
       "      <td>2012-10-01</td>\n",
       "      <td>2</td>\n",
       "      <td>28</td>\n",
       "      <td>0.021739</td>\n",
       "      <td>0.024263</td>\n",
       "    </tr>\n",
       "    <tr>\n",
       "      <th>9</th>\n",
       "      <td>Riverdale SZ</td>\n",
       "      <td>11343.380217</td>\n",
       "      <td>2013</td>\n",
       "      <td>POLYGON ((-73.91713000028915 40.89255099941862...</td>\n",
       "      <td>2012-10-01</td>\n",
       "      <td>0</td>\n",
       "      <td>17</td>\n",
       "      <td>0.000000</td>\n",
       "      <td>0.014731</td>\n",
       "    </tr>\n",
       "    <tr>\n",
       "      <th>10</th>\n",
       "      <td>Rosebank SZ</td>\n",
       "      <td>7025.136075</td>\n",
       "      <td>2013</td>\n",
       "      <td>POLYGON ((-74.0707020003853 40.61172899910091,...</td>\n",
       "      <td>2013-02-01</td>\n",
       "      <td>5</td>\n",
       "      <td>25</td>\n",
       "      <td>0.023256</td>\n",
       "      <td>0.024248</td>\n",
       "    </tr>\n",
       "    <tr>\n",
       "      <th>11</th>\n",
       "      <td>MT Eden SZ</td>\n",
       "      <td>6456.178037</td>\n",
       "      <td>2012</td>\n",
       "      <td>POLYGON ((-73.91371900052056 40.8387489986989,...</td>\n",
       "      <td>2012-07-01</td>\n",
       "      <td>0</td>\n",
       "      <td>77</td>\n",
       "      <td>NaN</td>\n",
       "      <td>0.061798</td>\n",
       "    </tr>\n",
       "    <tr>\n",
       "      <th>12</th>\n",
       "      <td>Boerum Hill SZ</td>\n",
       "      <td>11001.882366</td>\n",
       "      <td>2013</td>\n",
       "      <td>POLYGON ((-73.98916812738942 40.68861555357048...</td>\n",
       "      <td>2012-11-01</td>\n",
       "      <td>13</td>\n",
       "      <td>115</td>\n",
       "      <td>0.105691</td>\n",
       "      <td>0.102404</td>\n",
       "    </tr>\n",
       "    <tr>\n",
       "      <th>13</th>\n",
       "      <td>Claremont SZ</td>\n",
       "      <td>10671.854740</td>\n",
       "      <td>2011</td>\n",
       "      <td>POLYGON ((-73.8833309995071 40.83589899916397,...</td>\n",
       "      <td>2011-11-01</td>\n",
       "      <td>0</td>\n",
       "      <td>148</td>\n",
       "      <td>NaN</td>\n",
       "      <td>0.099396</td>\n",
       "    </tr>\n",
       "    <tr>\n",
       "      <th>14</th>\n",
       "      <td>X10 Norwood</td>\n",
       "      <td>9071.833442</td>\n",
       "      <td>2014</td>\n",
       "      <td>POLYGON ((-73.87682710082899 40.87111905517072...</td>\n",
       "      <td>2014-06-01</td>\n",
       "      <td>99</td>\n",
       "      <td>70</td>\n",
       "      <td>0.141429</td>\n",
       "      <td>0.128205</td>\n",
       "    </tr>\n",
       "    <tr>\n",
       "      <th>15</th>\n",
       "      <td>Alphabet City Tompkins Square Park SZ</td>\n",
       "      <td>13839.167196</td>\n",
       "      <td>2014</td>\n",
       "      <td>POLYGON ((-73.98255629299391 40.73135013382262...</td>\n",
       "      <td>2014-08-01</td>\n",
       "      <td>295</td>\n",
       "      <td>172</td>\n",
       "      <td>0.387648</td>\n",
       "      <td>0.354639</td>\n",
       "    </tr>\n",
       "    <tr>\n",
       "      <th>17</th>\n",
       "      <td>Jackson Heights SZ</td>\n",
       "      <td>13377.265551</td>\n",
       "      <td>2014</td>\n",
       "      <td>POLYGON ((-73.89715103965911 40.75245898735845...</td>\n",
       "      <td>2014-09-01</td>\n",
       "      <td>240</td>\n",
       "      <td>142</td>\n",
       "      <td>0.303030</td>\n",
       "      <td>0.312775</td>\n",
       "    </tr>\n",
       "    <tr>\n",
       "      <th>21</th>\n",
       "      <td>Sunnyside Gardens-Woodside SZ</td>\n",
       "      <td>13827.628466</td>\n",
       "      <td>2015</td>\n",
       "      <td>POLYGON ((-73.92148115467063 40.74348242384505...</td>\n",
       "      <td>2015-08-01</td>\n",
       "      <td>167</td>\n",
       "      <td>11</td>\n",
       "      <td>0.148313</td>\n",
       "      <td>0.091667</td>\n",
       "    </tr>\n",
       "    <tr>\n",
       "      <th>22</th>\n",
       "      <td>Sunnyside SZ</td>\n",
       "      <td>15578.492915</td>\n",
       "      <td>2015</td>\n",
       "      <td>POLYGON ((-73.9289000936798 40.74434606530724,...</td>\n",
       "      <td>2015-08-01</td>\n",
       "      <td>226</td>\n",
       "      <td>14</td>\n",
       "      <td>0.200710</td>\n",
       "      <td>0.116667</td>\n",
       "    </tr>\n",
       "    <tr>\n",
       "      <th>24</th>\n",
       "      <td>Prospect Heights SZ</td>\n",
       "      <td>12722.271188</td>\n",
       "      <td>2015</td>\n",
       "      <td>POLYGON ((-73.96892332082486 40.67293755116507...</td>\n",
       "      <td>2015-10-01</td>\n",
       "      <td>220</td>\n",
       "      <td>8</td>\n",
       "      <td>0.185341</td>\n",
       "      <td>0.135593</td>\n",
       "    </tr>\n",
       "    <tr>\n",
       "      <th>25</th>\n",
       "      <td>Brooklyn Heights SZ</td>\n",
       "      <td>11449.329177</td>\n",
       "      <td>2015</td>\n",
       "      <td>POLYGON ((-73.99236367034435 40.68969012238684...</td>\n",
       "      <td>2015-10-01</td>\n",
       "      <td>191</td>\n",
       "      <td>3</td>\n",
       "      <td>0.160910</td>\n",
       "      <td>0.050847</td>\n",
       "    </tr>\n",
       "    <tr>\n",
       "      <th>26</th>\n",
       "      <td>Astoria SZ</td>\n",
       "      <td>11649.707319</td>\n",
       "      <td>2015</td>\n",
       "      <td>POLYGON ((-73.92780678706755 40.76988903770145...</td>\n",
       "      <td>2015-09-01</td>\n",
       "      <td>196</td>\n",
       "      <td>16</td>\n",
       "      <td>0.169404</td>\n",
       "      <td>0.179775</td>\n",
       "    </tr>\n",
       "  </tbody>\n",
       "</table>\n",
       "</div>"
      ],
      "text/plain": [
       "                                     Name    Shape_Leng  Year  \\\n",
       "0             New Brighton / St George SZ  13036.458032  2012   \n",
       "1                               Corona SZ  10817.131818  2012   \n",
       "2        Jackson Heights/East Elmhurst SZ  11114.722878  2013   \n",
       "3                             Elmhurst SZ  12877.813210  2013   \n",
       "4                           Auburndale SZ   6477.631376  2013   \n",
       "5                               Inwood SZ  13491.829126  2012   \n",
       "6                           Baychester SZ   8972.379950  2013   \n",
       "7                         Dongan Hills SZ  13195.014124  2013   \n",
       "8                          Eastchester SZ   8453.375658  2013   \n",
       "9                            Riverdale SZ  11343.380217  2013   \n",
       "10                            Rosebank SZ   7025.136075  2013   \n",
       "11                             MT Eden SZ   6456.178037  2012   \n",
       "12                         Boerum Hill SZ  11001.882366  2013   \n",
       "13                           Claremont SZ  10671.854740  2011   \n",
       "14                            X10 Norwood   9071.833442  2014   \n",
       "15  Alphabet City Tompkins Square Park SZ  13839.167196  2014   \n",
       "17                     Jackson Heights SZ  13377.265551  2014   \n",
       "21          Sunnyside Gardens-Woodside SZ  13827.628466  2015   \n",
       "22                           Sunnyside SZ  15578.492915  2015   \n",
       "24                    Prospect Heights SZ  12722.271188  2015   \n",
       "25                    Brooklyn Heights SZ  11449.329177  2015   \n",
       "26                             Astoria SZ  11649.707319  2015   \n",
       "\n",
       "                                             geometry       date  before  \\\n",
       "0   POLYGON ((-74.08100100007188 40.6370809990848,... 2013-06-01      18   \n",
       "1   POLYGON ((-73.86942458231813 40.74915686824454... 2013-06-01      51   \n",
       "2   POLYGON ((-73.88713100050958 40.7648889990303,... 2013-04-01      21   \n",
       "3   POLYGON ((-73.88207112111411 40.74782992580317... 2013-03-01      65   \n",
       "4   POLYGON ((-73.78522788946755 40.76184569346055... 2013-06-01       5   \n",
       "5   POLYGON ((-73.91845699967485 40.87306999944159... 2012-09-01       2   \n",
       "6   POLYGON ((-73.84640499958121 40.8770329992664,... 2012-12-01      15   \n",
       "7   POLYGON ((-74.09208699941692 40.58660899920393... 2013-09-01      22   \n",
       "8   POLYGON ((-73.8555370004179 40.87118899883096,... 2012-10-01       2   \n",
       "9   POLYGON ((-73.91713000028915 40.89255099941862... 2012-10-01       0   \n",
       "10  POLYGON ((-74.0707020003853 40.61172899910091,... 2013-02-01       5   \n",
       "11  POLYGON ((-73.91371900052056 40.8387489986989,... 2012-07-01       0   \n",
       "12  POLYGON ((-73.98916812738942 40.68861555357048... 2012-11-01      13   \n",
       "13  POLYGON ((-73.8833309995071 40.83589899916397,... 2011-11-01       0   \n",
       "14  POLYGON ((-73.87682710082899 40.87111905517072... 2014-06-01      99   \n",
       "15  POLYGON ((-73.98255629299391 40.73135013382262... 2014-08-01     295   \n",
       "17  POLYGON ((-73.89715103965911 40.75245898735845... 2014-09-01     240   \n",
       "21  POLYGON ((-73.92148115467063 40.74348242384505... 2015-08-01     167   \n",
       "22  POLYGON ((-73.9289000936798 40.74434606530724,... 2015-08-01     226   \n",
       "24  POLYGON ((-73.96892332082486 40.67293755116507... 2015-10-01     220   \n",
       "25  POLYGON ((-73.99236367034435 40.68969012238684... 2015-10-01     191   \n",
       "26  POLYGON ((-73.92780678706755 40.76988903770145... 2015-09-01     196   \n",
       "\n",
       "    after  avgBefore  avgAfter  \n",
       "0      52   0.053731  0.057080  \n",
       "1     177   0.152239  0.194292  \n",
       "2      91   0.076642  0.093621  \n",
       "3     212   0.267490  0.211366  \n",
       "4       9   0.014925  0.009879  \n",
       "5      89   0.032258  0.075169  \n",
       "6     101   0.098039  0.092406  \n",
       "7      50   0.051522  0.061050  \n",
       "8      28   0.021739  0.024263  \n",
       "9      17   0.000000  0.014731  \n",
       "10     25   0.023256  0.024248  \n",
       "11     77        NaN  0.061798  \n",
       "12    115   0.105691  0.102404  \n",
       "13    148        NaN  0.099396  \n",
       "14     70   0.141429  0.128205  \n",
       "15    172   0.387648  0.354639  \n",
       "17    142   0.303030  0.312775  \n",
       "21     11   0.148313  0.091667  \n",
       "22     14   0.200710  0.116667  \n",
       "24      8   0.185341  0.135593  \n",
       "25      3   0.160910  0.050847  \n",
       "26     16   0.169404  0.179775  "
      ]
     },
     "execution_count": 38,
     "metadata": {},
     "output_type": "execute_result"
    }
   ],
   "source": [
    "start = crashes.DATE.min()\n",
    "end = crashes.DATE.max()\n",
    "slowzones['avgBefore'] = slowzones.apply(lambda x: x['before']/(x['date'] - start).days if (x['date'] - start).days > 0 else float('nan'), axis=1)\n",
    "slowzones['avgAfter'] = slowzones.apply(lambda x: x['after']/(end - x['date']).days if (end - x['date']).days > 0 else float('nan'), axis=1)\n",
    "\n",
    "#print (end - start).days\n",
    "slowzones"
   ]
  },
  {
   "cell_type": "code",
   "execution_count": 49,
   "metadata": {
    "collapsed": false
   },
   "outputs": [
    {
     "name": "stdout",
     "output_type": "stream",
     "text": [
      "                            OLS Regression Results                            \n",
      "==============================================================================\n",
      "Dep. Variable:                      y   R-squared:                       0.007\n",
      "Model:                            OLS   Adj. R-squared:                 -0.017\n",
      "Method:                 Least Squares   F-statistic:                    0.3006\n",
      "Date:                Fri, 04 Dec 2015   Prob (F-statistic):              0.587\n",
      "Time:                        21:56:11   Log-Likelihood:                -208.42\n",
      "No. Observations:                  42   AIC:                             420.8\n",
      "Df Residuals:                      40   BIC:                             424.3\n",
      "Df Model:                           1                                         \n",
      "Covariance Type:            nonrobust                                         \n",
      "===============================================================================\n",
      "                  coef    std err          t      P>|t|      [95.0% Conf. Int.]\n",
      "-------------------------------------------------------------------------------\n",
      "Intercept      47.3463      7.925      5.974      0.000        31.329    63.363\n",
      "C(x)[T.1.0]    -6.0038     10.950     -0.548      0.587       -28.134    16.127\n",
      "==============================================================================\n",
      "Omnibus:                        8.882   Durbin-Watson:                   1.215\n",
      "Prob(Omnibus):                  0.012   Jarque-Bera (JB):                8.078\n",
      "Skew:                           1.034   Prob(JB):                       0.0176\n",
      "Kurtosis:                       3.582   Cond. No.                         2.68\n",
      "==============================================================================\n",
      "\n",
      "Warnings:\n",
      "[1] Standard Errors assume that the covariance matrix of the errors is correctly specified.\n"
     ]
    },
    {
     "data": {
      "image/png": "[encoded data removed]",
      "text/plain": [
       "<matplotlib.figure.Figure at 0x6d345400>"
      ]
     },
     "metadata": {},
     "output_type": "display_data"
    }
   ],
   "source": [
    "y = np.concatenate((slowzones['avgBefore'], slowzones['avgAfter']))*365\n",
    "x = np.concatenate((np.zeros(len(slowzones)), np.ones(len(slowzones))))\n",
    "\n",
    "figure, ax = pl.subplots(figsize=(16,16))\n",
    "ax.scatter(x,y)\n",
    "\n",
    "mod = smf.ols(formula='y ~ C(x)', data = {'x': x, 'y': y}).fit()\n",
    "print mod.summary()"
   ]
  },
  {
   "cell_type": "code",
   "execution_count": 63,
   "metadata": {
    "collapsed": false
   },
   "outputs": [
    {
     "data": {
      "text/plain": [
       "Name                                New Brighton / St George SZ\n",
       "Shape_Leng                                             13036.46\n",
       "Year                                                       2012\n",
       "geometry      POLYGON ((-74.08100100007188 40.6370809990848,...\n",
       "date                                        2013-06-01 00:00:00\n",
       "before                                                       18\n",
       "after                                                        52\n",
       "avgBefore                                            0.05373134\n",
       "avgAfter                                             0.05708013\n",
       "Name: 0, dtype: object"
      ]
     },
     "execution_count": 63,
     "metadata": {},
     "output_type": "execute_result"
    }
   ],
   "source": [
    "slowzones.iloc[0]"
   ]
  },
  {
   "cell_type": "code",
   "execution_count": 64,
   "metadata": {
    "collapsed": false
   },
   "outputs": [],
   "source": [
    "b = crashes[crashes.DATE < slowzones.iloc[0].date].sum()['NUMBER OF PERSONS INJURED']\n",
    "a = crashes[crashes.DATE > slowzones.iloc[0].date].sum()['NUMBER OF PERSONS INJURED']"
   ]
  },
  {
   "cell_type": "code",
   "execution_count": 68,
   "metadata": {
    "collapsed": false
   },
   "outputs": [
    {
     "name": "stdout",
     "output_type": "stream",
     "text": [
      "41928.0 110958.0\n"
     ]
    }
   ],
   "source": [
    "print b,a"
   ]
  },
  {
   "cell_type": "code",
   "execution_count": 65,
   "metadata": {
    "collapsed": false
   },
   "outputs": [
    {
     "data": {
      "text/plain": [
       "(152746.03209711419, 0.0)"
      ]
     },
     "execution_count": 65,
     "metadata": {},
     "output_type": "execute_result"
    }
   ],
   "source": [
    "scipy.stats.chisquare(\n",
    "    [slowzones.iloc[0].before, slowzones.iloc[0].after],\n",
    "    [b,a]\n",
    ")"
   ]
  },
  {
   "cell_type": "code",
   "execution_count": 67,
   "metadata": {
    "collapsed": false
   },
   "outputs": [
    {
     "name": "stdout",
     "output_type": "stream",
     "text": [
      "0.270719801648\n",
      "0.251795002133\n"
     ]
    }
   ],
   "source": [
    "print crashes[crashes.DATE < slowzones.iloc[0].date].mean()['NUMBER OF PERSONS INJURED']\n",
    "print crashes[crashes.DATE > slowzones.iloc[0].date].mean()['NUMBER OF PERSONS INJURED']"
   ]
  },
  {
   "cell_type": "code",
   "execution_count": 28,
   "metadata": {
    "collapsed": false
   },
   "outputs": [
    {
     "data": {
      "text/plain": [
       "0.00028171235498844743"
      ]
     },
     "execution_count": 28,
     "metadata": {},
     "output_type": "execute_result"
    }
   ],
   "source": [
    "#scipy.stats.chi2_contingency([\n",
    "#    [slowzones.iloc[0].before, slowzones.iloc[0].after],\n",
    "#    [b,a]\n",
    "#])[1]\n",
    "\n",
    "scipy.stats.chi2_contingency([\n",
    "    [50, 45],\n",
    "    [500, 1000]\n",
    "], lambda_=0)[1]"
   ]
  },
  {
   "cell_type": "code",
   "execution_count": 34,
   "metadata": {
    "collapsed": true
   },
   "outputs": [],
   "source": [
    "def doStuff(col, results):\n",
    "    print\n",
    "    print col\n",
    "    \n",
    "    slowzones['before'] = 0\n",
    "    slowzones['after'] = 0\n",
    "    for index,row in grouped.sum().iterrows():\n",
    "        sz,speed = index\n",
    "        if speed == 20:\n",
    "            slowzones['after'][sz] += row[col]\n",
    "        else:\n",
    "            slowzones['before'][sz] += row[col]\n",
    "            \n",
    "    for index,row in slowzones.iterrows():\n",
    "        if row.before == 0:\n",
    "            continue\n",
    "\n",
    "        b = crashes[crashes.DATE < row.date].sum()[col]\n",
    "        a = crashes[crashes.DATE > row.date].sum()[col]\n",
    "        pvalue = scipy.stats.chi2_contingency([\n",
    "            [row.before, row.after],\n",
    "            [b,a]\n",
    "        ], lambda_=0)[1]\n",
    "        results.append((col, row.Name, row.date, row.before, row.after, b, a, pvalue))\n",
    "        #print row.Name, row.date, row.before, row.after, b, a, pvalue"
   ]
  },
  {
   "cell_type": "code",
   "execution_count": 40,
   "metadata": {
    "collapsed": true
   },
   "outputs": [],
   "source": [
    "def doStuff2(results):\n",
    "    col = 'GEO'\n",
    "    slowzones['before'] = 0\n",
    "    slowzones['after'] = 0\n",
    "    for index,row in grouped.count().iterrows():\n",
    "        sz,speed = index\n",
    "        if speed == 20:\n",
    "            slowzones['after'][sz] += row[col]\n",
    "        else:\n",
    "            slowzones['before'][sz] += row[col]\n",
    "            \n",
    "    for index,row in slowzones.iterrows():\n",
    "        if row.before == 0:\n",
    "            continue\n",
    "\n",
    "        b = crashes[crashes.DATE < row.date].count()[col]\n",
    "        a = crashes[crashes.DATE > row.date].count()[col]\n",
    "        pvalue = scipy.stats.chi2_contingency([\n",
    "            [row.before, row.after],\n",
    "            [b,a]\n",
    "        ], lambda_=0)[1]\n",
    "        results.append((col, row.Name, row.date, row.before, row.after, b, a, pvalue))\n",
    "        #print row.Name, row.date, row.before, row.after, b, a, pvalue"
   ]
  },
  {
   "cell_type": "code",
   "execution_count": 35,
   "metadata": {
    "collapsed": true
   },
   "outputs": [],
   "source": [
    "sum_categories = [\n",
    "    'NUMBER OF PERSONS KILLED',\n",
    "    'NUMBER OF PERSONS INJURED',\n",
    "    'NUMBER OF PEDESTRIANS KILLED',\n",
    "    'NUMBER OF PEDESTRIANS INJURED',\n",
    "    'NUMBER OF CYCLIST KILLED',\n",
    "    'NUMBER OF CYCLIST INJURED',\n",
    "    'NUMBER OF MOTORIST KILLED',\n",
    "    'NUMBER OF MOTORIST INJURED'\n",
    "]\n",
    "        \n",
    "percent_categories = [\n",
    "    'PERCENT OF PERSONS KILLED',\n",
    "    'PERCENT OF PEDESTRIANS KILLED',\n",
    "    'PERCENT OF CYCLIST KILLED',\n",
    "    'PERCENT OF MOTORIST KILLED',\n",
    "]"
   ]
  },
  {
   "cell_type": "code",
   "execution_count": 36,
   "metadata": {
    "collapsed": false
   },
   "outputs": [
    {
     "name": "stderr",
     "output_type": "stream",
     "text": [
      "c:\\Users\\Jeremy\\Anaconda\\lib\\site-packages\\IPython\\kernel\\__main__.py:10: SettingWithCopyWarning: \n",
      "A value is trying to be set on a copy of a slice from a DataFrame\n",
      "\n",
      "See the the caveats in the documentation: http://pandas.pydata.org/pandas-docs/stable/indexing.html#indexing-view-versus-copy\n",
      "c:\\Users\\Jeremy\\Anaconda\\lib\\site-packages\\IPython\\kernel\\__main__.py:12: SettingWithCopyWarning: \n",
      "A value is trying to be set on a copy of a slice from a DataFrame\n",
      "\n",
      "See the the caveats in the documentation: http://pandas.pydata.org/pandas-docs/stable/indexing.html#indexing-view-versus-copy\n"
     ]
    },
    {
     "name": "stdout",
     "output_type": "stream",
     "text": [
      "\n",
      "NUMBER OF PERSONS KILLED\n",
      "\n",
      "NUMBER OF PERSONS INJURED\n",
      "\n",
      "NUMBER OF PEDESTRIANS KILLED\n",
      "\n",
      "NUMBER OF PEDESTRIANS INJURED\n",
      "\n",
      "NUMBER OF CYCLIST KILLED\n",
      "\n",
      "NUMBER OF CYCLIST INJURED\n",
      "\n",
      "NUMBER OF MOTORIST KILLED\n",
      "\n",
      "NUMBER OF MOTORIST INJURED\n"
     ]
    }
   ],
   "source": [
    "results = []\n",
    "for i in sum_categories:\n",
    "    doStuff(i, results)"
   ]
  },
  {
   "cell_type": "code",
   "execution_count": 41,
   "metadata": {
    "collapsed": false
   },
   "outputs": [
    {
     "name": "stderr",
     "output_type": "stream",
     "text": [
      "c:\\Users\\Jeremy\\Anaconda\\lib\\site-packages\\IPython\\kernel\\__main__.py:8: SettingWithCopyWarning: \n",
      "A value is trying to be set on a copy of a slice from a DataFrame\n",
      "\n",
      "See the the caveats in the documentation: http://pandas.pydata.org/pandas-docs/stable/indexing.html#indexing-view-versus-copy\n",
      "c:\\Users\\Jeremy\\Anaconda\\lib\\site-packages\\IPython\\kernel\\__main__.py:10: SettingWithCopyWarning: \n",
      "A value is trying to be set on a copy of a slice from a DataFrame\n",
      "\n",
      "See the the caveats in the documentation: http://pandas.pydata.org/pandas-docs/stable/indexing.html#indexing-view-versus-copy\n"
     ]
    },
    {
     "name": "stdout",
     "output_type": "stream",
     "text": [
      "[('GEO', u'New Brighton / St George SZ', Timestamp('2013-06-01 00:00:00'), 81L, 258L, 154876, 440668, 0.40580101702844495), ('GEO', u'Corona SZ', Timestamp('2013-06-01 00:00:00'), 179L, 556L, 154876, 440668, 0.32462651714163215), ('GEO', u'Jackson Heights/East Elmhurst SZ', Timestamp('2013-04-01 00:00:00'), 64L, 293L, 125058, 470620, 0.16685980616262541), ('GEO', u'Elmhurst SZ', Timestamp('2013-03-01 00:00:00'), 202L, 858L, 110984, 484596, 0.75485025703427688), ('GEO', u'Auburndale SZ', Timestamp('2013-06-01 00:00:00'), 42L, 85L, 154876, 440668, 0.094523058057610326), ('GEO', u'Inwood SZ', Timestamp('2012-09-01 00:00:00'), 28L, 480L, 29005, 566648, 0.57570716777167485), ('GEO', u'Baychester SZ', Timestamp('2012-12-01 00:00:00'), 36L, 294L, 70858, 524803, 0.63599114154386482), ('GEO', u'Dongan Hills SZ', Timestamp('2013-09-01 00:00:00'), 128L, 193L, 198949, 396732, 0.017908957378692445), ('GEO', u'Eastchester SZ', Timestamp('2012-10-01 00:00:00'), 7L, 114L, 43101, 552529, 0.65204683419742526), ('GEO', u'Riverdale SZ', Timestamp('2012-10-01 00:00:00'), 11L, 101L, 43101, 552529, 0.4019450327091999), ('GEO', u'Rosebank SZ', Timestamp('2013-02-01 00:00:00'), 15L, 87L, 98713, 496872, 0.70502272721495629), ('GEO', u'Boerum Hill SZ', Timestamp('2012-11-01 00:00:00'), 68L, 562L, 57389, 538321, 0.36598955028431002), ('GEO', u'X10 Norwood', Timestamp('2014-06-01 00:00:00'), 367L, 349L, 326781, 268806, 0.057583480872498455), ('GEO', u'Alphabet City Tompkins Square Park SZ', Timestamp('2014-08-01 00:00:00'), 1117L, 710L, 356801, 238711, 0.2967877739048258), ('GEO', u'Jackson Heights SZ', Timestamp('2014-09-01 00:00:00'), 1064L, 635L, 371079, 224671, 0.79363856237923514), ('GEO', u'Sunnyside Gardens-Woodside SZ', Timestamp('2015-08-01 00:00:00'), 611L, 58L, 533209, 62301, 0.13666597198864847), ('GEO', u'Sunnyside SZ', Timestamp('2015-08-01 00:00:00'), 912L, 70L, 533209, 62301, 0.00040130765564921981), ('GEO', u'Prospect Heights SZ', Timestamp('2015-10-01 00:00:00'), 793L, 41L, 564801, 30706, 0.81308742084725849), ('GEO', u'Brooklyn Heights SZ', Timestamp('2015-10-01 00:00:00'), 1328L, 55L, 564801, 30706, 0.046077171137378824), ('GEO', u'Astoria SZ', Timestamp('2015-09-01 00:00:00'), 851L, 68L, 549153, 46395, 0.70184201195916951)]\n"
     ]
    }
   ],
   "source": [
    "r2 = []\n",
    "doStuff2(r2)\n",
    "print r2"
   ]
  },
  {
   "cell_type": "code",
   "execution_count": 43,
   "metadata": {
    "collapsed": false
   },
   "outputs": [],
   "source": [
    "r3 = results + r2"
   ]
  },
  {
   "cell_type": "code",
   "execution_count": 46,
   "metadata": {
    "collapsed": false
   },
   "outputs": [],
   "source": [
    "rdf = pd.DataFrame(r3)"
   ]
  },
  {
   "cell_type": "code",
   "execution_count": 52,
   "metadata": {
    "collapsed": false
   },
   "outputs": [],
   "source": [
    "rdf = rdf.sort([2,1,0])"
   ]
  },
  {
   "cell_type": "code",
   "execution_count": 57,
   "metadata": {
    "collapsed": false
   },
   "outputs": [],
   "source": [
    "rdf2 = rdf[rdf[4] != 0]"
   ]
  },
  {
   "cell_type": "code",
   "execution_count": 68,
   "metadata": {
    "collapsed": false
   },
   "outputs": [],
   "source": [
    "rdf3 = rdf2[~rdf2[0].str.contains('KILLED')]"
   ]
  },
  {
   "cell_type": "code",
   "execution_count": 70,
   "metadata": {
    "collapsed": false
   },
   "outputs": [
    {
     "name": "stderr",
     "output_type": "stream",
     "text": [
      "c:\\Users\\Jeremy\\Anaconda\\lib\\site-packages\\IPython\\kernel\\__main__.py:1: SettingWithCopyWarning: \n",
      "A value is trying to be set on a copy of a slice from a DataFrame\n",
      "\n",
      "See the the caveats in the documentation: http://pandas.pydata.org/pandas-docs/stable/indexing.html#indexing-view-versus-copy\n",
      "  if __name__ == '__main__':\n",
      "c:\\Users\\Jeremy\\Anaconda\\lib\\site-packages\\IPython\\kernel\\__main__.py:2: SettingWithCopyWarning: \n",
      "A value is trying to be set on a copy of a slice from a DataFrame\n",
      "\n",
      "See the the caveats in the documentation: http://pandas.pydata.org/pandas-docs/stable/indexing.html#indexing-view-versus-copy\n",
      "  from IPython.kernel.zmq import kernelapp as app\n",
      "c:\\Users\\Jeremy\\Anaconda\\lib\\site-packages\\IPython\\kernel\\__main__.py:3: SettingWithCopyWarning: \n",
      "A value is trying to be set on a copy of a slice from a DataFrame\n",
      "\n",
      "See the the caveats in the documentation: http://pandas.pydata.org/pandas-docs/stable/indexing.html#indexing-view-versus-copy\n",
      "  app.launch_new_instance()\n",
      "c:\\Users\\Jeremy\\Anaconda\\lib\\site-packages\\IPython\\kernel\\__main__.py:4: SettingWithCopyWarning: \n",
      "A value is trying to be set on a copy of a slice from a DataFrame\n",
      "\n",
      "See the the caveats in the documentation: http://pandas.pydata.org/pandas-docs/stable/indexing.html#indexing-view-versus-copy\n",
      "c:\\Users\\Jeremy\\Anaconda\\lib\\site-packages\\IPython\\kernel\\__main__.py:5: SettingWithCopyWarning: \n",
      "A value is trying to be set on a copy of a slice from a DataFrame\n",
      "\n",
      "See the the caveats in the documentation: http://pandas.pydata.org/pandas-docs/stable/indexing.html#indexing-view-versus-copy\n"
     ]
    }
   ],
   "source": [
    "rdf3[0][rdf3[0].str.contains('GEO')] = 'Total Collisions'\n",
    "rdf3[0][rdf3[0].str.contains('MOTORIST')] = 'Motorist Injuries'\n",
    "rdf3[0][rdf3[0].str.contains('PEDESTRIAN')] = 'Pedestrian Injuries'\n",
    "rdf3[0][rdf3[0].str.contains('PERSONS')] = 'Person Injuries'\n",
    "rdf3[0][rdf3[0].str.contains('CYCLIST')] = 'Cyclist Injuries'"
   ]
  },
  {
   "cell_type": "code",
   "execution_count": 72,
   "metadata": {
    "collapsed": false
   },
   "outputs": [
    {
     "name": "stdout",
     "output_type": "stream",
     "text": [
      "\\begin{tabular}{lllrrrrr}\n",
      "\\toprule\n",
      "                                     1 &          2 &                    0 &     3 &    4 &       5 &       6 &         7 \\\\\n",
      "\\midrule\n",
      "                             Inwood SZ & 2012-09-01 &     Total Collisions &    28 &  480 &   29005 &  566648 &  0.575707 \\\\\n",
      "                             Inwood SZ & 2012-09-01 &    Motorist Injuries &     1 &   46 &    5842 &  100047 &  0.450159 \\\\\n",
      "                             Inwood SZ & 2012-09-01 &  Pedestrian Injuries &     1 &   31 &    1544 &   32487 &  0.967243 \\\\\n",
      "                             Inwood SZ & 2012-09-01 &      Person Injuries &     2 &   89 &    8262 &  144663 &  0.217994 \\\\\n",
      "                        Eastchester SZ & 2012-10-01 &     Total Collisions &     7 &  114 &   43101 &  552529 &  0.652047 \\\\\n",
      "                        Eastchester SZ & 2012-10-01 &    Motorist Injuries &     2 &   20 &    8603 &   97295 &  0.818009 \\\\\n",
      "                        Eastchester SZ & 2012-10-01 &      Person Injuries &     2 &   28 &   12241 &  140679 &  0.947413 \\\\\n",
      "                          Riverdale SZ & 2012-10-01 &     Total Collisions &    11 &  101 &   43101 &  552529 &  0.401945 \\\\\n",
      "                        Boerum Hill SZ & 2012-11-01 &     Total Collisions &    68 &  562 &   57389 &  538321 &  0.365990 \\\\\n",
      "                        Boerum Hill SZ & 2012-11-01 &     Cyclist Injuries &     2 &   25 &    1570 &   11437 &  0.642564 \\\\\n",
      "                        Boerum Hill SZ & 2012-11-01 &    Motorist Injuries &    10 &   61 &   11366 &   94539 &  0.485880 \\\\\n",
      "                        Boerum Hill SZ & 2012-11-01 &  Pedestrian Injuries &     1 &   29 &    3253 &   30775 &  0.354236 \\\\\n",
      "                        Boerum Hill SZ & 2012-11-01 &      Person Injuries &    13 &  115 &   16189 &  136751 &  0.988850 \\\\\n",
      "                         Baychester SZ & 2012-12-01 &     Total Collisions &    36 &  294 &   70858 &  524803 &  0.635991 \\\\\n",
      "                         Baychester SZ & 2012-12-01 &    Motorist Injuries &    14 &   88 &   13630 &   92273 &  0.912841 \\\\\n",
      "                         Baychester SZ & 2012-12-01 &  Pedestrian Injuries &     1 &   13 &    4185 &   29834 &  0.853851 \\\\\n",
      "                         Baychester SZ & 2012-12-01 &      Person Injuries &    15 &  101 &   19640 &  133299 &  0.912017 \\\\\n",
      "                           Rosebank SZ & 2013-02-01 &     Total Collisions &    15 &   87 &   98713 &  496872 &  0.705023 \\\\\n",
      "                           Rosebank SZ & 2013-02-01 &    Motorist Injuries &     3 &   19 &   18456 &   87435 &  0.849214 \\\\\n",
      "                           Rosebank SZ & 2013-02-01 &  Pedestrian Injuries &     2 &    5 &    6368 &   27647 &  0.856901 \\\\\n",
      "                           Rosebank SZ & 2013-02-01 &      Person Injuries &     5 &   25 &   27026 &  125898 &  0.924771 \\\\\n",
      "                           Elmhurst SZ & 2013-03-01 &     Total Collisions &   202 &  858 &  110984 &  484596 &  0.754850 \\\\\n",
      "                           Elmhurst SZ & 2013-03-01 &     Cyclist Injuries &    15 &   49 &    2325 &   10696 &  0.333004 \\\\\n",
      "                           Elmhurst SZ & 2013-03-01 &    Motorist Injuries &    28 &   58 &   20500 &   85398 &  0.005563 \\\\\n",
      "                           Elmhurst SZ & 2013-03-01 &  Pedestrian Injuries &    22 &  105 &    7254 &   26760 &  0.310928 \\\\\n",
      "                           Elmhurst SZ & 2013-03-01 &      Person Injuries &    65 &  212 &   30079 &  122854 &  0.138679 \\\\\n",
      "      Jackson Heights/East Elmhurst SZ & 2013-04-01 &     Total Collisions &    64 &  293 &  125058 &  470620 &  0.166860 \\\\\n",
      "      Jackson Heights/East Elmhurst SZ & 2013-04-01 &     Cyclist Injuries &     1 &    4 &    2506 &   10508 &  0.570629 \\\\\n",
      "      Jackson Heights/East Elmhurst SZ & 2013-04-01 &    Motorist Injuries &    16 &   74 &   23016 &   82893 &  0.425286 \\\\\n",
      "      Jackson Heights/East Elmhurst SZ & 2013-04-01 &  Pedestrian Injuries &     4 &   13 &    8153 &   25879 &  0.810214 \\\\\n",
      "      Jackson Heights/East Elmhurst SZ & 2013-04-01 &      Person Injuries &    21 &   91 &   33675 &  119280 &  0.464377 \\\\\n",
      "                         Auburndale SZ & 2013-06-01 &     Total Collisions &    42 &   85 &  154876 &  440668 &  0.094523 \\\\\n",
      "                         Auburndale SZ & 2013-06-01 &    Motorist Injuries &     4 &    7 &   28924 &   76923 &  0.742132 \\\\\n",
      "                         Auburndale SZ & 2013-06-01 &  Pedestrian Injuries &     1 &    1 &    9864 &   24162 &  0.899549 \\\\\n",
      "                         Auburndale SZ & 2013-06-01 &      Person Injuries &     5 &    9 &   41928 &  110958 &  0.697084 \\\\\n",
      "                             Corona SZ & 2013-06-01 &     Total Collisions &   179 &  556 &  154876 &  440668 &  0.324627 \\\\\n",
      "                             Corona SZ & 2013-06-01 &     Cyclist Injuries &    15 &   43 &    3140 &    9873 &  0.878201 \\\\\n",
      "                             Corona SZ & 2013-06-01 &    Motorist Injuries &    15 &   76 &   28924 &   76923 &  0.020797 \\\\\n",
      "                             Corona SZ & 2013-06-01 &  Pedestrian Injuries &    21 &   58 &    9864 &   24162 &  0.727018 \\\\\n",
      "                             Corona SZ & 2013-06-01 &      Person Injuries &    51 &  177 &   41928 &  110958 &  0.095138 \\\\\n",
      "           New Brighton / St George SZ & 2013-06-01 &     Total Collisions &    81 &  258 &  154876 &  440668 &  0.405801 \\\\\n",
      "           New Brighton / St George SZ & 2013-06-01 &     Cyclist Injuries &     1 &    5 &    3140 &    9873 &  0.960257 \\\\\n",
      "           New Brighton / St George SZ & 2013-06-01 &    Motorist Injuries &     8 &   31 &   28924 &   76923 &  0.427581 \\\\\n",
      "           New Brighton / St George SZ & 2013-06-01 &  Pedestrian Injuries &     9 &   16 &    9864 &   24162 &  0.586950 \\\\\n",
      "           New Brighton / St George SZ & 2013-06-01 &      Person Injuries &    18 &   52 &   41928 &  110958 &  0.851379 \\\\\n",
      "                       Dongan Hills SZ & 2013-09-01 &     Total Collisions &   128 &  193 &  198949 &  396732 &  0.017909 \\\\\n",
      "                       Dongan Hills SZ & 2013-09-01 &    Motorist Injuries &    18 &   37 &   37898 &   67951 &  0.736344 \\\\\n",
      "                       Dongan Hills SZ & 2013-09-01 &  Pedestrian Injuries &     4 &    9 &   12285 &   21739 &  0.910683 \\\\\n",
      "                       Dongan Hills SZ & 2013-09-01 &      Person Injuries &    22 &   50 &   54683 &   98204 &  0.419288 \\\\\n",
      "                           X10 Norwood & 2014-06-01 &     Total Collisions &   367 &  349 &  326781 &  268806 &  0.057583 \\\\\n",
      "                           X10 Norwood & 2014-06-01 &     Cyclist Injuries &     1 &    7 &    6762 &    6248 &  0.052058 \\\\\n",
      "                           X10 Norwood & 2014-06-01 &    Motorist Injuries &    69 &   46 &   59918 &   45944 &  0.520210 \\\\\n",
      "                           X10 Norwood & 2014-06-01 &  Pedestrian Injuries &    29 &   17 &   20296 &   13719 &  0.751206 \\\\\n",
      "                           X10 Norwood & 2014-06-01 &      Person Injuries &    99 &   70 &   86976 &   65911 &  0.714070 \\\\\n",
      " Alphabet City Tompkins Square Park SZ & 2014-08-01 &     Total Collisions &  1117 &  710 &  356801 &  238711 &  0.296788 \\\\\n",
      " Alphabet City Tompkins Square Park SZ & 2014-08-01 &     Cyclist Injuries &    93 &   46 &    7691 &    5317 &  0.073407 \\\\\n",
      " Alphabet City Tompkins Square Park SZ & 2014-08-01 &    Motorist Injuries &    81 &   59 &   65534 &   40332 &  0.371908 \\\\\n",
      " Alphabet City Tompkins Square Park SZ & 2014-08-01 &  Pedestrian Injuries &   121 &   67 &   21859 &   12154 &  0.960796 \\\\\n",
      " Alphabet City Tompkins Square Park SZ & 2014-08-01 &      Person Injuries &   295 &  172 &   95084 &   57803 &  0.698405 \\\\\n",
      "                    Jackson Heights SZ & 2014-09-01 &     Total Collisions &  1064 &  635 &  371079 &  224671 &  0.793639 \\\\\n",
      "                    Jackson Heights SZ & 2014-09-01 &     Cyclist Injuries &    47 &   25 &    8157 &    4854 &  0.740453 \\\\\n",
      "                    Jackson Heights SZ & 2014-09-01 &    Motorist Injuries &   112 &   72 &   68195 &   37712 &  0.360751 \\\\\n",
      "                    Jackson Heights SZ & 2014-09-01 &  Pedestrian Injuries &    81 &   45 &   22520 &   11514 &  0.725991 \\\\\n",
      "                    Jackson Heights SZ & 2014-09-01 &      Person Injuries &   240 &  142 &   98872 &   54080 &  0.493199 \\\\\n",
      "         Sunnyside Gardens-Woodside SZ & 2015-08-01 &     Total Collisions &   611 &   58 &  533209 &   62301 &  0.136666 \\\\\n",
      "         Sunnyside Gardens-Woodside SZ & 2015-08-01 &     Cyclist Injuries &    28 &    3 &   11362 &    1651 &  0.812932 \\\\\n",
      "         Sunnyside Gardens-Woodside SZ & 2015-08-01 &    Motorist Injuries &    72 &    4 &   95363 &   10500 &  0.210980 \\\\\n",
      "         Sunnyside Gardens-Woodside SZ & 2015-08-01 &  Pedestrian Injuries &    67 &    4 &   30883 &    3142 &  0.374625 \\\\\n",
      "         Sunnyside Gardens-Woodside SZ & 2015-08-01 &      Person Injuries &   167 &   11 &  137608 &   15293 &  0.094482 \\\\\n",
      "                          Sunnyside SZ & 2015-08-01 &     Total Collisions &   912 &   70 &  533209 &   62301 &  0.000401 \\\\\n",
      "                          Sunnyside SZ & 2015-08-01 &     Cyclist Injuries &    17 &    5 &   11362 &    1651 &  0.309135 \\\\\n",
      "                          Sunnyside SZ & 2015-08-01 &    Motorist Injuries &   150 &    8 &   95363 &   10500 &  0.038299 \\\\\n",
      "                          Sunnyside SZ & 2015-08-01 &  Pedestrian Injuries &    59 &    1 &   30883 &    3142 &  0.034966 \\\\\n",
      "                          Sunnyside SZ & 2015-08-01 &      Person Injuries &   226 &   14 &  137608 &   15293 &  0.028537 \\\\\n",
      "                            Astoria SZ & 2015-09-01 &     Total Collisions &   851 &   68 &  549153 &   46395 &  0.701842 \\\\\n",
      "                            Astoria SZ & 2015-09-01 &     Cyclist Injuries &    38 &    4 &   11871 &    1137 &  0.924404 \\\\\n",
      "                            Astoria SZ & 2015-09-01 &    Motorist Injuries &    94 &    7 &   98183 &    7711 &  0.955614 \\\\\n",
      "                            Astoria SZ & 2015-09-01 &  Pedestrian Injuries &    64 &    5 &   31543 &    2474 &  0.825554 \\\\\n",
      "                            Astoria SZ & 2015-09-01 &      Person Injuries &   196 &   16 &  141597 &   11322 &  0.958738 \\\\\n",
      "                   Brooklyn Heights SZ & 2015-10-01 &     Total Collisions &  1328 &   55 &  564801 &   30706 &  0.046077 \\\\\n",
      "                   Brooklyn Heights SZ & 2015-10-01 &    Motorist Injuries &   127 &    2 &  100851 &    5038 &  0.089264 \\\\\n",
      "                   Brooklyn Heights SZ & 2015-10-01 &  Pedestrian Injuries &    49 &    1 &   32243 &    1764 &  0.451011 \\\\\n",
      "                   Brooklyn Heights SZ & 2015-10-01 &      Person Injuries &   191 &    3 &  145436 &    7468 &  0.023053 \\\\\n",
      "                   Prospect Heights SZ & 2015-10-01 &     Total Collisions &   793 &   41 &  564801 &   30706 &  0.813087 \\\\\n",
      "                   Prospect Heights SZ & 2015-10-01 &     Cyclist Injuries &    49 &    3 &   12342 &     666 &  0.917007 \\\\\n",
      "                   Prospect Heights SZ & 2015-10-01 &    Motorist Injuries &   112 &    4 &  100851 &    5038 &  0.646852 \\\\\n",
      "                   Prospect Heights SZ & 2015-10-01 &  Pedestrian Injuries &    59 &    1 &   32243 &    1764 &  0.299220 \\\\\n",
      "                   Prospect Heights SZ & 2015-10-01 &      Person Injuries &   220 &    8 &  145436 &    7468 &  0.399290 \\\\\n",
      "\\bottomrule\n",
      "\\end{tabular}\n",
      "\n"
     ]
    }
   ],
   "source": [
    "print rdf3.to_latex(columns=(1,2,0,3,4,5,6,7),index=False)"
   ]
  },
  {
   "cell_type": "code",
   "execution_count": null,
   "metadata": {
    "collapsed": true
   },
   "outputs": [],
   "source": []
  }
 ],
 "metadata": {
  "kernelspec": {
   "display_name": "Python 2",
   "language": "python",
   "name": "python2"
  },
  "language_info": {
   "codemirror_mode": {
    "name": "ipython",
    "version": 2
   },
   "file_extension": ".py",
   "mimetype": "text/x-python",
   "name": "python",
   "nbconvert_exporter": "python",
   "pygments_lexer": "ipython2",
   "version": "2.7.10"
  }
 },
 "nbformat": 4,
 "nbformat_minor": 0
}
